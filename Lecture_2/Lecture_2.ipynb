{
 "metadata": {
  "name": "",
  "signature": "sha256:7677d1f61d05ada69f69d4a97996e92f2217a3d2111cc4223284518a6b103576"
 },
 "nbformat": 3,
 "nbformat_minor": 0,
 "worksheets": [
  {
   "cells": [
    {
     "cell_type": "markdown",
     "metadata": {},
     "source": [
      "# MATLAB Lecture 2: Data Analysis\n",
      "\n",
      "**Instructor**:  Daniel Carrera (danielc@astro.lu.se)\n",
      "\n",
      "Course:\n",
      "\n",
      "* ASTM13 - Dynamical Astronomy\n",
      "* ASTM21 - Statistical Tools in Astrophysics\n",
      "* ASTA33 - Galaxer och Kosmologi\n",
      "\n",
      "Lecture Plan:\n",
      "\n",
      "- 1h Theory (Andromeda)\n",
      "- 1h Practical (Lyra computer lab)\n",
      "\n",
      "----------------------------------------\n",
      "\n",
      "----------------------------------------\n",
      "\n",
      "----------------------------------------\n",
      "\n",
      "# Where to get the lecture notes\n",
      "\n",
      "### HTML-only\n",
      "\n",
      "You can get HTML-only copies of all the notes at:\n",
      "\n",
      "* http://www.astro.lu.se/~danielc/matlab/Lecture-01.html\n",
      "\n",
      "* http://www.astro.lu.se/~danielc/matlab/Lecture-02.html\n",
      "\n",
      "* http://www.astro.lu.se/~danielc/matlab/Lecture-03.html\n",
      "\n",
      "\n",
      "### Live version\n",
      "\n",
      "If you want a \"live\" notebook, the easiest to get an account at Sage Math Cloud (http://cloud.sagemath.com) -- a free service by the U. of Washington. Go to **Projects > Create New Project > New**. Type the URL https://github.com/dcarrera/matlab.git and press **`Enter`**.\n",
      "\n",
      "----------------------------------------\n",
      "\n",
      "----------------------------------------\n",
      "\n",
      "----------------------------------------"
     ]
    },
    {
     "cell_type": "markdown",
     "metadata": {},
     "source": [
      "## Load the Octave backend\n",
      "\n",
      "Press **`Shift-Enter`** to run code in the notebook."
     ]
    },
    {
     "cell_type": "code",
     "collapsed": false,
     "input": [
      "%load_ext oct2py.ipython\n",
      "\n",
      "%octave  disp(\"Success: If this message prints, the Octave backend was loaded correctly.\")"
     ],
     "language": "python",
     "metadata": {},
     "outputs": []
    },
    {
     "cell_type": "markdown",
     "metadata": {},
     "source": [
      "\n",
      "----------------------------------------\n",
      "\n",
      "----------------------------------------\n",
      "\n",
      "----------------------------------------\n",
      "\n",
      "## Hipparcos star catalog\n",
      "\n",
      "Download the catalogue from:\n",
      "\n",
      "http://www.astro.lu.se/Education/utb/ASTM13/hipparcos.txt\n",
      "\n",
      "The catalogue is a simple table:\n",
      "\n",
      "* Each row is a different star.\n",
      "* Each column is a different property.\n",
      "\n",
      "````\n",
      "    HIP   Longitude   Latitude   Parallax\n",
      "    1       97.19      -59.19      3.54     ...\n",
      "    2       63.12      -75.96     21.9      ...\n",
      "    3      112.09      -22.93      2.8      ...\n",
      "    4      320.79      -63.42      7.74     ...\n",
      "    5      337.9       -72.86      2.86     ...\n",
      "    6       99.22      -56.54     18.8      ...\n",
      "    7      106.82      -41.22     17.74     ...\n",
      "    8      108.71      -35.56      5.16     ...\n",
      "    9      111.58      -25.15      4.8      ...\n",
      "````\n",
      "    \n",
      "We want to use MATLAB to search through the Hipparcos catalog.    \n"
     ]
    },
    {
     "cell_type": "code",
     "collapsed": false,
     "input": [
      "%%octave\n",
      "\n",
      "%\n",
      "% Read from the file into the array data(:,:)\n",
      "%\n",
      "data = dlmread('hipparcos.txt');\n",
      "\n",
      "size(data)"
     ],
     "language": "python",
     "metadata": {},
     "outputs": []
    },
    {
     "cell_type": "code",
     "collapsed": false,
     "input": [
      "%%octave\n",
      "\n",
      "%\n",
      "% Columns.\n",
      "%\n",
      "HIP  = data(:, 1);  % (---)    Hipparcos number.\n",
      "l    = data(:, 2);  % (deg)    Star longitude.\n",
      "b    = data(:, 3);  % (deg)    Star lattitude.\n",
      "p    = data(:, 4);  % (mas)    Parallax.\n",
      "ul   = data(:, 5);  % (mas/yr) Proper motion, 'l' direction.\n",
      "ub   = data(:, 6);  % (mas/yr) Proper motion, 'b' direction.\n",
      "e_p  = data(:, 7);  % (mas)    Standard Error in parallax.\n",
      "e_ul = data(:, 8);  % (mas/yr) Standard Error in 'ul'.\n",
      "e_ub = data(:, 9);  % (mas/yr) Standard Error in 'ub'.\n",
      "V    = data(:,10);  % (mag)    Visual magnitude.\n",
      "col  = data(:,11);  % (mag)    Colour index, B-V.\n",
      "mult = data(:,12);  % (---)    Stellar multiplicity.\n",
      "\n",
      "size(p)"
     ],
     "language": "python",
     "metadata": {},
     "outputs": []
    },
    {
     "cell_type": "markdown",
     "metadata": {},
     "source": [
      "### Plotting stars from the catalogue\n",
      "\n",
      "What does this plot command do? Try changing the value of **\"n\"**. What can we learn from that?"
     ]
    },
    {
     "cell_type": "code",
     "collapsed": false,
     "input": [
      "%%octave -f png\n",
      "\n",
      "%\n",
      "% l == Galactic longitude\n",
      "% b == Galactic latitude\n",
      "%\n",
      "n =5000\n",
      "plot(l(1:n), b(1:n), \".\")"
     ],
     "language": "python",
     "metadata": {},
     "outputs": []
    },
    {
     "cell_type": "markdown",
     "metadata": {},
     "source": [
      "### Comparison operators ( < > <= >= ...) are all array operations"
     ]
    },
    {
     "cell_type": "code",
     "collapsed": false,
     "input": [
      "%%octave\n",
      "\n",
      "arr = [1 2 3 4 5] % Row vector.\n",
      "    \n",
      "arr < 3 % Array operation.\n",
      "    \n",
      "arr( arr < 3 ) % Subset of an array."
     ],
     "language": "python",
     "metadata": {},
     "outputs": []
    },
    {
     "cell_type": "markdown",
     "metadata": {},
     "source": [
      "The same can be done with two-dimensional data."
     ]
    },
    {
     "cell_type": "code",
     "collapsed": false,
     "input": [
      "%%octave -f png\n",
      "\n",
      "% data == 2D array with the Hipparcos catalog.\n",
      "l = data(:, 2); % (deg) Star longitude.\n",
      "b = data(:, 3); % (deg) Star latitude.\n",
      "p = data(:, 4); % (mas) Parallax.\n",
      "    \n",
      "% Select stars with parallax greater than 20 mas\n",
      "% (i.e. stars closer than 50 pc).\n",
      "nearby = (p > 20); % Stars closer than 1000/20 = 50pc.\n",
      "    \n",
      "% Plot galactic longitude and latitude of nearby stars.\n",
      "plot( b(nearby), l(nearby), '.' )"
     ],
     "language": "python",
     "metadata": {},
     "outputs": []
    },
    {
     "cell_type": "markdown",
     "metadata": {},
     "source": [
      "Combine search criteria with array operations."
     ]
    },
    {
     "cell_type": "code",
     "collapsed": false,
     "input": [
      "%%octave\n",
      "\n",
      "arr\n",
      "    \n",
      "arr < 4\n",
      "    \n",
      "arr > 1\n",
      "    \n",
      "(arr < 4) .* (arr > 1)\n",
      "    \n",
      "(arr < 4) & (arr > 1)"
     ],
     "language": "python",
     "metadata": {},
     "outputs": []
    },
    {
     "cell_type": "markdown",
     "metadata": {},
     "source": [
      "Another example."
     ]
    },
    {
     "cell_type": "code",
     "collapsed": false,
     "input": [
      "%%octave    \n",
      "    \n",
      "l = data(:,2); % (deg) Column vector with star longitudes.\n",
      "b = data(:,3); % (deg) Column vector with star latitudes.\n",
      "\n",
      "%\n",
      "% Select stars toward the galactic centre (longitude = 0)\n",
      "%\n",
      "mask = (l < 10) | (l > 350);\n",
      "\n",
      "%\n",
      "% Select stars close to the galactic plane.\n",
      "%\n",
      "mask = abs(b) < 10;"
     ],
     "language": "python",
     "metadata": {},
     "outputs": []
    },
    {
     "cell_type": "markdown",
     "metadata": {},
     "source": [
      "## Real world example: Combining images\n",
      "\n",
      "![Moon](img/moon-01.png)       Dark side of the moon \n",
      "                           with a knife edge covering \n",
      "                           the bright side.\n",
      "\n",
      "**Image credit: Henriette Schwarz, 2012 (Masters Thesis)**\n",
      "\n",
      "----------------------------------------\n",
      "\n",
      "----------------------------------------\n",
      "\n",
      "----------------------------------------"
     ]
    },
    {
     "cell_type": "markdown",
     "metadata": {},
     "source": [
      "![Moon](img/moon-02.png)\n",
      "\n",
      "**Image credit: Henriette Schwarz, 2012 (Masters Thesis)**"
     ]
    },
    {
     "cell_type": "code",
     "collapsed": false,
     "input": [
      "%%octave\n",
      "\n",
      "%\n",
      "% Images are 2D arrays\n",
      "%\n",
      "img1 % Bright side.\n",
      "img2 % Dark side.\n",
      "mask = img2 > background\n",
      "img = img2 .* mask + img1 .* (1-mask)"
     ],
     "language": "python",
     "metadata": {},
     "outputs": []
    },
    {
     "cell_type": "markdown",
     "metadata": {},
     "source": [
      "## Simulated data\n",
      "\n",
      "Pseudo-random number generators\n",
      "\n",
      "* **`rand`** - Uniform (pseudo-)random distribution.\n",
      "* **`randn`** - Normal (pseudo-)random distribution.\n"
     ]
    },
    {
     "cell_type": "code",
     "collapsed": false,
     "input": [
      "%%octave\n",
      "\n",
      "nrows = 20;\n",
      "ncols = 5;\n",
      "\n",
      "rand(nrows, ncols)"
     ],
     "language": "python",
     "metadata": {},
     "outputs": []
    },
    {
     "cell_type": "markdown",
     "metadata": {},
     "source": [
      "### Generate a uniform star field"
     ]
    },
    {
     "cell_type": "code",
     "collapsed": false,
     "input": [
      "%%octave -f png\n",
      "\n",
      "% Number of stars.\n",
      "nstars = 1000\n",
      "\n",
      "% Uniform distribution.\n",
      "% X and Y position.\n",
      "\n",
      "u_x = rand(1,nstars);\n",
      "u_y = rand(1,nstars);\n",
      "\n",
      "% Plot the star field.\n",
      "plot(u_x,u_y,'b.')"
     ],
     "language": "python",
     "metadata": {},
     "outputs": []
    },
    {
     "cell_type": "markdown",
     "metadata": {},
     "source": [
      "### Generate a non-uniform star field (simulated cluster)"
     ]
    },
    {
     "cell_type": "code",
     "collapsed": false,
     "input": [
      "%%octave -f png\n",
      "\n",
      "% Number of stars.\n",
      "nstars = 1000\n",
      "\n",
      "% Normal distribution\n",
      "% (star cluster)\n",
      "c_x = randn(1,nstars);\n",
      "c_y = randn(1,nstars);\n",
      "\n",
      "% Plot the cluster\n",
      "plot(c_x,c_y,'b.')"
     ],
     "language": "python",
     "metadata": {},
     "outputs": []
    },
    {
     "cell_type": "markdown",
     "metadata": {},
     "source": [
      "### Join together the two datasets to make a more realistic star field."
     ]
    },
    {
     "cell_type": "code",
     "collapsed": false,
     "input": [
      "%%octave\n",
      "\n",
      "a = [1 2 3];\n",
      "\n",
      "b = [4 5 6];\n",
      "\n",
      "join = [a b]\n",
      "\n",
      "comb = [a ; b]"
     ],
     "language": "python",
     "metadata": {},
     "outputs": []
    },
    {
     "cell_type": "markdown",
     "metadata": {},
     "source": [
      "## Example: Local density function of a star field.\n",
      "\n",
      "Let **`x`** and **`y`** contain the joined dataset.\n",
      "\n",
      "(1) How to find nearby stars."
     ]
    },
    {
     "cell_type": "code",
     "collapsed": true,
     "input": [
      "%%octave\n",
      "\n",
      "% Consider the first star in the star field.\n",
      "x1 = x(1);\n",
      "y1 = y(1);\n",
      "\n",
      "% Distance to every other star in the field.\n",
      "r = sqrt( (x1 - x).^2 + (y1 - y).^2 );\n",
      "\n",
      "%\n",
      "% Find the number of stars \u201cnear\u201d star 1.\n",
      "%\n",
      "d = 1; % Arbitrary distance.\n",
      "\n",
      "% Number of stars within distance 'd'.\n",
      "sum(r < d)"
     ],
     "language": "python",
     "metadata": {},
     "outputs": []
    },
    {
     "cell_type": "markdown",
     "metadata": {},
     "source": [
      "(2) Write a function that computes the **local density** around a point (file: **`density.m`**)."
     ]
    },
    {
     "cell_type": "code",
     "collapsed": true,
     "input": [
      "%%octave\n",
      "\n",
      "%\n",
      "% Local density around the point (xp,yp)\n",
      "%\n",
      "function rho = density(starsx, starsy, xp, yp)\n",
      "d = 1; % Arbitrary distance threshold.\n",
      "r = sqrt((xp - starsx).^2 + (yp - starsy).^2);\n",
      "\n",
      "% Number of stars within distance 'd'.\n",
      "rho = sum( r < d );"
     ],
     "language": "python",
     "metadata": {},
     "outputs": []
    },
    {
     "cell_type": "markdown",
     "metadata": {},
     "source": [
      "(3) How to use the **`density()`** function."
     ]
    },
    {
     "cell_type": "code",
     "collapsed": true,
     "input": [
      "%%octave\n",
      "\n",
      "% Consider the first star in the star field.\n",
      "x1 = x(1);\n",
      "y1 = y(2);\n",
      "\n",
      "% Local density around (x1,y1)\n",
      "rho = density(x, y, x1, y1)"
     ],
     "language": "python",
     "metadata": {},
     "outputs": []
    },
    {
     "cell_type": "markdown",
     "metadata": {},
     "source": [
      "(4) Use **`density()`** to \"find\" the star cluster."
     ]
    },
    {
     "cell_type": "code",
     "collapsed": true,
     "input": [
      "%%octave -f png\n",
      "\n",
      "cluster_x = [];\n",
      "cluster_y = [];\n",
      "\n",
      "rho_min = 10 % Experiment with this value.\n",
      "for i = 1:length(x)\n",
      "    if density(x,y,x(i),y(i)) > rho_min\n",
      "        cluster_x = [ cluster_x , x(i) ];\n",
      "        cluster_y = [ cluster_y , y(i) ];\n",
      "    end\n",
      "end\n",
      "\n",
      "plot(x,y,'b.',cluster_x,cluster_y,'r+')"
     ],
     "language": "python",
     "metadata": {},
     "outputs": []
    }
   ],
   "metadata": {}
  }
 ]
}