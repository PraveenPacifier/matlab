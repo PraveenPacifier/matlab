{
 "metadata": {
  "kernelspec": {
   "codemirror_mode": {
    "name": "ipython",
    "version": 2
   },
   "display_name": "IPython (Python 2)",
   "language": "python",
   "name": "python2",
   "pygments_lexer": "ipython2"
  },
  "name": "",
  "signature": "sha256:d1d6631fb322fe48c2c5895ba2cfb19cf171ac0fe11e3ac91c6583ad1ce7fd54"
 },
 "nbformat": 3,
 "nbformat_minor": 0,
 "worksheets": [
  {
   "cells": [
    {
     "cell_type": "markdown",
     "metadata": {
      "slideshow": {
       "slide_type": "slide"
      }
     },
     "source": [
      "# MATLAB Lecture 1: Introduction\n",
      "\n",
      "**Instructor**:  Daniel Carrera (danielc@astro.lu.se)\n",
      "\n",
      "Course:\n",
      "\n",
      "* ASTM13 - Dynamical Astronomy\n",
      "* ASTM21 - Statistical Tools in Astrophysics\n",
      "* ASTA33 - Galaxer och Kosmologi\n",
      "\n",
      "Lecture Plan:\n",
      "\n",
      "- 1h Theory (Andromeda)\n",
      "- 1h Practical (Lyra computer lab)\n",
      "\n",
      "----------------------------------------\n",
      "\n",
      "----------------------------------------\n",
      "\n",
      "----------------------------------------\n",
      "\n",
      "# Where to get MATLAB\n",
      "\n",
      "MATLAB download for Lund University students:  http://program.ddg.lth.se/\n",
      "\n",
      "------------------------------\n",
      "\n",
      "# Where to get the lecture notes\n",
      "\n",
      "### HTML-only\n",
      "\n",
      "You can get HTML-only copies of all the notes at:\n",
      "\n",
      "* http://www.astro.lu.se/~danielc/matlab/Lecture_1.html\n",
      "\n",
      "* http://www.astro.lu.se/~danielc/matlab/Lecture_2.html\n",
      "\n",
      "* http://www.astro.lu.se/~danielc/matlab/Lecture_3.html\n",
      "\n",
      "\n",
      "### Live version\n",
      "\n",
      "If you want a \"live\" notebook, the easiest to get an account at Sage Math Cloud (http://cloud.sagemath.com) -- a free service by the U. of Washington. Go to **Projects > Create New Project > New**. Type the URL https://github.com/dcarrera/matlab.git and press **`Enter`**.\n",
      "\n",
      "----------------------------------------\n",
      "\n",
      "----------------------------------------\n",
      "\n",
      "----------------------------------------"
     ]
    },
    {
     "cell_type": "markdown",
     "metadata": {},
     "source": [
      "# Why MATLAB?\n",
      "\n",
      "Array-based programming language\n",
      "\n",
      "* The basic object is the array (e.g. vector, matrix).\n",
      "* Perform operations on entire arrays (e.g. vector addition, matrix product, QR factorization, etc).\n",
      "* Compact, clear code.\n",
      "\n",
      "### Example C code"
     ]
    },
    {
     "cell_type": "markdown",
     "metadata": {},
     "source": [
      "`````\n",
      "for (i = 0; i < n; i++) {\n",
      "    for (j = 0; j < m; j++) {\n",
      "        C[i,j] = 0;\n",
      "        for (k = 0; k < q; k++) {\n",
      "            C[i,j] += A[i,k] * B[k,j];\n",
      "        }\n",
      "    }\n",
      "}\n",
      "`````"
     ]
    },
    {
     "cell_type": "markdown",
     "metadata": {},
     "source": [
      "### Example MATLAB code"
     ]
    },
    {
     "cell_type": "markdown",
     "metadata": {},
     "source": [
      "     C = A*B"
     ]
    },
    {
     "cell_type": "markdown",
     "metadata": {},
     "source": [
      "* Good balance of performance and ease of use.\n",
      "* Array languages are well suited for scientific computing."
     ]
    },
    {
     "cell_type": "markdown",
     "metadata": {},
     "source": [
      "# Quick Tour of MATLAB\n",
      "\n",
      "\n",
      "To run the code examples we must first load the `Octave` backend. Octave is a MATLAB look-alike. Click on the code box and press **`Shift-Enter`**."
     ]
    },
    {
     "cell_type": "code",
     "collapsed": false,
     "input": [
      "%load_ext oct2py.ipython\n",
      "\n",
      "%octave  disp(\"Success: If this message prints, the Octave backend was loaded correctly.\")"
     ],
     "language": "python",
     "metadata": {},
     "outputs": []
    },
    {
     "cell_type": "markdown",
     "metadata": {},
     "source": [
      "All code blocks must start with **`%%octave`** so that the code is sent to Octave. Otherwise, the code block goes to Python and you will get an error.\n",
      "\n",
      "Click on a box and press **`Shift-Enter`**."
     ]
    },
    {
     "cell_type": "code",
     "collapsed": false,
     "input": [
      "%%octave\n",
      "\n",
      "2 + 3 + 7 + 12 + 31"
     ],
     "language": "python",
     "metadata": {},
     "outputs": []
    },
    {
     "cell_type": "code",
     "collapsed": false,
     "input": [
      "%%octave\n",
      "\n",
      "pi"
     ],
     "language": "python",
     "metadata": {},
     "outputs": []
    },
    {
     "cell_type": "code",
     "collapsed": false,
     "input": [
      "%%octave\n",
      "\n",
      "sqrt(2)"
     ],
     "language": "python",
     "metadata": {},
     "outputs": []
    },
    {
     "cell_type": "code",
     "collapsed": false,
     "input": [
      "%%octave\n",
      "\n",
      "2^10"
     ],
     "language": "python",
     "metadata": {},
     "outputs": []
    },
    {
     "cell_type": "code",
     "collapsed": false,
     "input": [
      "%%octave\n",
      "\n",
      "exp(123)"
     ],
     "language": "python",
     "metadata": {},
     "outputs": []
    },
    {
     "cell_type": "code",
     "collapsed": false,
     "input": [
      "%%octave\n",
      "\n",
      "log(exp(123))"
     ],
     "language": "python",
     "metadata": {},
     "outputs": []
    },
    {
     "cell_type": "markdown",
     "metadata": {},
     "source": [
      "### Angles are in radians"
     ]
    },
    {
     "cell_type": "code",
     "collapsed": false,
     "input": [
      "%%octave\n",
      "\n",
      "cos(pi)"
     ],
     "language": "python",
     "metadata": {},
     "outputs": []
    },
    {
     "cell_type": "code",
     "collapsed": false,
     "input": [
      "%%octave\n",
      "\n",
      "sin(pi/2)"
     ],
     "language": "python",
     "metadata": {},
     "outputs": []
    },
    {
     "cell_type": "code",
     "collapsed": false,
     "input": [
      "%%octave\n",
      "\n",
      "tan(3*pi/4)"
     ],
     "language": "python",
     "metadata": {},
     "outputs": []
    },
    {
     "cell_type": "markdown",
     "metadata": {},
     "source": [
      "### Complex numbers"
     ]
    },
    {
     "cell_type": "code",
     "collapsed": false,
     "input": [
      "%%octave\n",
      "\n",
      "sqrt(-1)"
     ],
     "language": "python",
     "metadata": {},
     "outputs": []
    },
    {
     "cell_type": "code",
     "collapsed": false,
     "input": [
      "%%octave\n",
      "\n",
      "2 + 3i"
     ],
     "language": "python",
     "metadata": {},
     "outputs": []
    },
    {
     "cell_type": "code",
     "collapsed": false,
     "input": [
      "%%octave\n",
      "\n",
      "(2+3i)^2"
     ],
     "language": "python",
     "metadata": {},
     "outputs": []
    },
    {
     "cell_type": "markdown",
     "metadata": {},
     "source": [
      "### Variables and arrays"
     ]
    },
    {
     "cell_type": "code",
     "collapsed": false,
     "input": [
      "%%octave\n",
      "\n",
      "a = 17"
     ],
     "language": "python",
     "metadata": {},
     "outputs": []
    },
    {
     "cell_type": "code",
     "collapsed": false,
     "input": [
      "%%octave\n",
      "\n",
      "b = 2*a"
     ],
     "language": "python",
     "metadata": {},
     "outputs": []
    },
    {
     "cell_type": "code",
     "collapsed": false,
     "input": [
      "%%octave\n",
      "\n",
      "u = [6 5 4 3 2]"
     ],
     "language": "python",
     "metadata": {},
     "outputs": []
    },
    {
     "cell_type": "code",
     "collapsed": false,
     "input": [
      "%%octave\n",
      "\n",
      "u + [1 1 1 1 1]\n",
      "\n",
      "u*2\n",
      "\n",
      "sqrt(u)"
     ],
     "language": "python",
     "metadata": {},
     "outputs": []
    },
    {
     "cell_type": "code",
     "collapsed": false,
     "input": [
      "%%octave\n",
      "\n",
      "u\n",
      "\n",
      "max(u)\n",
      "\n",
      "min(u)\n",
      "\n",
      "sum(u)\n",
      "\n",
      "length(u)"
     ],
     "language": "python",
     "metadata": {},
     "outputs": []
    },
    {
     "cell_type": "markdown",
     "metadata": {},
     "source": [
      "### Matrices"
     ]
    },
    {
     "cell_type": "code",
     "collapsed": false,
     "input": [
      "%%octave\n",
      "\n",
      "A = [ 1 2 3 ; 4 5 6 ]"
     ],
     "language": "python",
     "metadata": {},
     "outputs": []
    },
    {
     "cell_type": "code",
     "collapsed": false,
     "input": [
      "%%octave\n",
      "\n",
      "size(A)"
     ],
     "language": "python",
     "metadata": {},
     "outputs": []
    },
    {
     "cell_type": "markdown",
     "metadata": {},
     "source": [
      "Matlab sees \"`u`\" as a 1x5 matrix."
     ]
    },
    {
     "cell_type": "code",
     "collapsed": false,
     "input": [
      "%%octave\n",
      "\n",
      "u\n",
      "\n",
      "size(u)"
     ],
     "language": "python",
     "metadata": {},
     "outputs": []
    },
    {
     "cell_type": "markdown",
     "metadata": {},
     "source": [
      "Matrix transpose."
     ]
    },
    {
     "cell_type": "code",
     "collapsed": false,
     "input": [
      "%%octave\n",
      "\n",
      "u'"
     ],
     "language": "python",
     "metadata": {},
     "outputs": []
    },
    {
     "cell_type": "markdown",
     "metadata": {},
     "source": [
      "Matrix product"
     ]
    },
    {
     "cell_type": "code",
     "collapsed": false,
     "input": [
      "%%octave\n",
      "\n",
      "u' * u"
     ],
     "language": "python",
     "metadata": {},
     "outputs": []
    },
    {
     "cell_type": "code",
     "collapsed": false,
     "input": [
      "%%octave\n",
      "\n",
      "u * u'"
     ],
     "language": "python",
     "metadata": {},
     "outputs": []
    },
    {
     "cell_type": "markdown",
     "metadata": {},
     "source": [
      "Element-wise product."
     ]
    },
    {
     "cell_type": "code",
     "collapsed": false,
     "input": [
      "%%octave\n",
      "\n",
      "u .* u"
     ],
     "language": "python",
     "metadata": {},
     "outputs": []
    },
    {
     "cell_type": "markdown",
     "metadata": {},
     "source": [
      "Random matrix"
     ]
    },
    {
     "cell_type": "code",
     "collapsed": false,
     "input": [
      "%%octave\n",
      "\n",
      "A = rand(4)"
     ],
     "language": "python",
     "metadata": {},
     "outputs": []
    },
    {
     "cell_type": "markdown",
     "metadata": {},
     "source": [
      "Column vector"
     ]
    },
    {
     "cell_type": "code",
     "collapsed": false,
     "input": [
      "%%octave\n",
      "\n",
      "b = [ 2 ; 3 ; 5 ; 4 ]"
     ],
     "language": "python",
     "metadata": {},
     "outputs": []
    },
    {
     "cell_type": "markdown",
     "metadata": {},
     "source": [
      "Solve the linear system: **`Ax = b`**"
     ]
    },
    {
     "cell_type": "code",
     "collapsed": false,
     "input": [
      "%%octave\n",
      "\n",
      "x = A \\ b"
     ],
     "language": "python",
     "metadata": {},
     "outputs": []
    },
    {
     "cell_type": "markdown",
     "metadata": {},
     "source": [
      "Confirm that **`x`** solves **`Ax = b`**"
     ]
    },
    {
     "cell_type": "code",
     "collapsed": false,
     "input": [
      "%%octave\n",
      "\n",
      "A*x"
     ],
     "language": "python",
     "metadata": {},
     "outputs": []
    },
    {
     "cell_type": "markdown",
     "metadata": {},
     "source": [
      "### Range of values\n",
      "\n",
      "What are the values of **`x`** and **`y`** after the code blocks?"
     ]
    },
    {
     "cell_type": "code",
     "collapsed": false,
     "input": [
      "%%octave\n",
      "\n",
      "x = [3:2:15]"
     ],
     "language": "python",
     "metadata": {
      "slideshow": {
       "slide_type": "subslide"
      }
     },
     "outputs": []
    },
    {
     "cell_type": "code",
     "collapsed": false,
     "input": [
      "%%octave\n",
      "\n",
      "y = linspace(0.5,4,8)"
     ],
     "language": "python",
     "metadata": {},
     "outputs": []
    },
    {
     "cell_type": "markdown",
     "metadata": {},
     "source": [
      "### Conditionals"
     ]
    },
    {
     "cell_type": "code",
     "collapsed": false,
     "input": [
      "%%octave\n",
      "\n",
      "a = 5;\n",
      "b = 5;\n",
      "\n",
      "if a == b\n",
      "    disp(\"They are the same\")\n",
      "elseif a < b\n",
      "    disp(\"'a' is smaller\")\n",
      "else\n",
      "    disp(\"'b' is smaller\")\n",
      "end"
     ],
     "language": "python",
     "metadata": {},
     "outputs": []
    },
    {
     "cell_type": "markdown",
     "metadata": {},
     "source": [
      "### For loops and while loops"
     ]
    },
    {
     "cell_type": "code",
     "collapsed": false,
     "input": [
      "%%octave\n",
      "\n",
      "r = [];\n",
      "for i = 3:8\n",
      "    r(i) = i*i;\n",
      "    disp(i)\n",
      "end\n",
      "disp('Hello')\n",
      "r"
     ],
     "language": "python",
     "metadata": {},
     "outputs": []
    },
    {
     "cell_type": "code",
     "collapsed": false,
     "input": [
      "%%octave\n",
      "\n",
      "y = 1000;\n",
      "while (y > 10)\n",
      "    y = sqrt(y)*3\n",
      "end"
     ],
     "language": "python",
     "metadata": {},
     "outputs": []
    },
    {
     "cell_type": "markdown",
     "metadata": {},
     "source": [
      "### Plotting"
     ]
    },
    {
     "cell_type": "code",
     "collapsed": false,
     "input": [
      "%%octave -f svg\n",
      "\n",
      "x = linspace(0,2*pi, 1000);\n",
      "y = sin(x);\n",
      "\n",
      "plot(x,y,'linewidth',3)\n",
      "\n",
      "title('Amplitude modulated wave')\n",
      "xlabel('Time (ms)')\n",
      "ylabel('Signal Strength (dB)')"
     ],
     "language": "python",
     "metadata": {
      "slideshow": {
       "slide_type": "slide"
      }
     },
     "outputs": []
    },
    {
     "cell_type": "code",
     "collapsed": false,
     "input": [
      "%%octave -f svg\n",
      "\n",
      "[x, y] = meshgrid(0:0.1:3);\n",
      "r = sin(x - 0.5).^2 + cos(y - 0.5).^2;\n",
      "surf(x, y, r);\n",
      "\n",
      "xlabel('x')\n",
      "ylabel('y')\n",
      "zlabel('z')"
     ],
     "language": "python",
     "metadata": {
      "slideshow": {
       "slide_type": "slide"
      }
     },
     "outputs": []
    },
    {
     "cell_type": "markdown",
     "metadata": {},
     "source": [
      "### Generating random values\n",
      "\n",
      "* **`rand`** - Uniform (pseudo-)random distribution.\n",
      "* **`randn`** - Normal (pseudo-)random distribution.\n",
      "\n",
      "Other distributions:\n",
      "\n",
      "- **`exprnd`** - Exponential distribution.\n",
      "- **`chi2rnd`** - Chi-squared distribution.\n",
      "- **`betarnd`** - Beta distribution.\n",
      "- **`binornd`** - Binomial distribution.\n",
      "- etc."
     ]
    },
    {
     "cell_type": "code",
     "collapsed": false,
     "input": [
      "%%octave\n",
      "\n",
      "rand(3)\n",
      "\n",
      "rand(3,5)\n",
      "\n",
      "rand(1,3)"
     ],
     "language": "python",
     "metadata": {},
     "outputs": []
    },
    {
     "cell_type": "markdown",
     "metadata": {},
     "source": [
      "The **`hist()`** function takes a series of values and makes a **histogram**."
     ]
    },
    {
     "cell_type": "code",
     "collapsed": false,
     "input": [
      "%%octave -f svg\n",
      "\n",
      "nrows = 500;\n",
      "ncols = 1;\n",
      "\n",
      "hist( rand(nrows,ncols) )\n",
      "title(\"Uniform Distribution\")"
     ],
     "language": "python",
     "metadata": {},
     "outputs": []
    },
    {
     "cell_type": "code",
     "collapsed": false,
     "input": [
      "%%octave -f svg\n",
      "\n",
      "nrows = 500;\n",
      "ncols = 1;\n",
      "\n",
      "hist( randn(nrows,ncols) )\n",
      "title(\"Gaussian Distribution\")"
     ],
     "language": "python",
     "metadata": {},
     "outputs": []
    },
    {
     "cell_type": "code",
     "collapsed": false,
     "input": [
      "%%octave -f svg\n",
      "\n",
      "mean_value = 5;\n",
      "nrows = 500;\n",
      "ncols = 1;\n",
      "\n",
      "hist( exprnd(mean_value, nrows, ncols) )\n",
      "title(\"Exponential Distribution\")"
     ],
     "language": "python",
     "metadata": {},
     "outputs": []
    },
    {
     "cell_type": "code",
     "collapsed": false,
     "input": [
      "%%octave -f svg\n",
      "\n",
      "degrees_of_freedom = 7;\n",
      "nrows = 500;\n",
      "ncols = 1;\n",
      "\n",
      "hist( chi2rnd(degrees_of_freedom, nrows, ncols) )\n",
      "title(\"Chi-squared Distribution\")"
     ],
     "language": "python",
     "metadata": {},
     "outputs": []
    },
    {
     "cell_type": "markdown",
     "metadata": {},
     "source": [
      "### Example: Profiling `rand()`\n",
      "\n",
      "(1) Generate a random matrix."
     ]
    },
    {
     "cell_type": "code",
     "collapsed": false,
     "input": [
      "%%octave\n",
      "\n",
      "nrows = 8;\n",
      "ncols = 3;\n",
      "\n",
      "rand(nrows, ncols)"
     ],
     "language": "python",
     "metadata": {},
     "outputs": []
    },
    {
     "cell_type": "markdown",
     "metadata": {},
     "source": [
      "(2) Use MATLAB's clock to profile a program.\n",
      "\n",
      "* **`tic`** - Start a stopwatch timer.\n",
      "* **`toc`** - Stop a stopwatch timer."
     ]
    },
    {
     "cell_type": "code",
     "collapsed": false,
     "input": [
      "%%octave\n",
      "\n",
      "tic\n",
      "\n",
      "rand(1000,1000);\n",
      "\n",
      "toc"
     ],
     "language": "python",
     "metadata": {},
     "outputs": []
    },
    {
     "cell_type": "markdown",
     "metadata": {},
     "source": [
      "(3) Test the cost of the **`rand()`** function."
     ]
    },
    {
     "cell_type": "code",
     "collapsed": false,
     "input": [
      "%%octave -f svg\n",
      "\n",
      "NMAX = 500;\n",
      "\n",
      "t = zeros(1,NMAX);\n",
      "for n = 1:NMAX\n",
      "    tic\n",
      "    rand(n,n);\n",
      "    t(n) = toc;\n",
      "end\n",
      "\n",
      "plot(t * 1000)\n",
      "\n",
      "xlabel(\"Matrix size (N)\")\n",
      "ylabel(\"CPU time (ms)\")\n",
      "title(\"CPU time goes with N^2\")"
     ],
     "language": "python",
     "metadata": {},
     "outputs": []
    },
    {
     "cell_type": "markdown",
     "metadata": {},
     "source": [
      "### How machines store numbers\n",
      "\n",
      "Try to guess what the following code does before running it. What is the final value of \"`d`\"?"
     ]
    },
    {
     "cell_type": "code",
     "collapsed": false,
     "input": [
      "%%octave\n",
      "\n",
      "a = 1000000000000000000\n",
      "b = 327\n",
      "c = a + b\n",
      "d = c - a"
     ],
     "language": "python",
     "metadata": {},
     "outputs": []
    },
    {
     "cell_type": "markdown",
     "metadata": {},
     "source": [
      "### Double precision floating point numbers\n",
      "\n",
      "<img src=\"img/IEEE_Double_Precision.svg\" width=\"100%\"/>\n",
      "\n",
      "**Format**:\n",
      "\n",
      "\\begin{equation*}\n",
      "    (-1)^{\\text{sign}}(1.b_{51}b_{50}...b_{1}b_{0})_2 \\times 2^{e-1023}\n",
      "\\end{equation*}\n",
      "\n",
      "\\begin{equation*}\n",
      "    0 \\le e \\le 2^{11}\n",
      "    \\;\\;\\;\\;\\;\\;\\;\\; ; \\;\\;\\;\\;\\;\n",
      "    2^{11} \\; = \\; 2048\n",
      "\\end{equation*}\n",
      "\n",
      "**Analogy**: Imagine that we had to work with three digits of precision (\"fraction\") and a one-digit exponent.\n",
      "\n",
      "````\n",
      "      1.23 x 10^5\n",
      "    + 3.22 x 10^3\n",
      "    -------------\n",
      "      1.23 x 10^5\n",
      "    + 0.03 x 10^5   <--- Loss of precision\n",
      "    -------------\n",
      "      1.26 x 10^5\n",
      "````\n",
      "\n",
      "**General rule**: Adding and subtracting numbers of very different magnitudes leads to loss of precision."
     ]
    },
    {
     "cell_type": "code",
     "collapsed": true,
     "input": [],
     "language": "python",
     "metadata": {},
     "outputs": []
    }
   ],
   "metadata": {}
  }
 ]
}