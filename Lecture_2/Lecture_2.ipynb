{
 "metadata": {
  "name": "",
  "signature": "sha256:fb1eb7d257ec5b0a17244ea657ba9f6c3b448b41ca8b51dd05e8b589b36f651b"
 },
 "nbformat": 3,
 "nbformat_minor": 0,
 "worksheets": [
  {
   "cells": [
    {
     "cell_type": "markdown",
     "metadata": {},
     "source": [
      "# Introduction to MATLAB\n",
      "# Lecture 2\n",
      "\n",
      "My Name:  Daniel Carrera (danielc@astro.lu.se) -- Doktorand\n",
      "\n",
      "Course:\n",
      "\n",
      "* ASTM13 - Dynamical Astronomy\n",
      "* ASTM21 - Statistical Tools in Astrophysics\n",
      "* ASTA33 - Galaxer och Kosmologi\n",
      "\n",
      "## Today's topic: Working with data\n",
      "\n",
      "* Searching through data.\n",
      "* Generating simulated data.\n",
      "* Sample application.\n",
      "* Code profiling."
     ]
    },
    {
     "cell_type": "markdown",
     "metadata": {},
     "source": [
      "## Load the Octave backend"
     ]
    },
    {
     "cell_type": "code",
     "collapsed": false,
     "input": [
      "%load_ext oct2py.ipython\n",
      "\n",
      "%octave  disp(\"Success: If this message prints, the Octave backend was loaded correctly.\")"
     ],
     "language": "python",
     "metadata": {},
     "outputs": [
      {
       "metadata": {},
       "output_type": "display_data",
       "text": [
        "Success: If this message prints, the Octave backend was loaded correctly."
       ]
      }
     ],
     "prompt_number": 1
    },
    {
     "cell_type": "markdown",
     "metadata": {},
     "source": [
      "## Hipparcos star catalog\n",
      "\n",
      "Download the catalogue from:\n",
      "\n",
      "http://www.astro.lu.se/Education/utb/ASTM13/hipparcos.txt"
     ]
    },
    {
     "cell_type": "markdown",
     "metadata": {},
     "source": [
      "The catalogue is a simple table:\n",
      "\n",
      "* Each row is a different star.\n",
      "* Each column is a different property.\n",
      "\n",
      "````\n",
      "    HIP   Longitude   Latitude   Parallax\n",
      "    1       97.19      -59.19      3.54     ...\n",
      "    2       63.12      -75.96     21.9      ...\n",
      "    3      112.09      -22.93      2.8      ...\n",
      "    4      320.79      -63.42      7.74     ...\n",
      "    5      337.9       -72.86      2.86     ...\n",
      "    6       99.22      -56.54     18.8      ...\n",
      "    7      106.82      -41.22     17.74     ...\n",
      "    8      108.71      -35.56      5.16     ...\n",
      "    9      111.58      -25.15      4.8      ...\n",
      "````\n",
      "    \n",
      "We want to use MATLAB to search through the Hipparcos catalog.    \n"
     ]
    },
    {
     "cell_type": "code",
     "collapsed": false,
     "input": [
      "%%octave\n",
      "\n",
      "%\n",
      "% Read from the file into the array data(:,:)\n",
      "%\n",
      "data = dlmread('hipparcos.txt');\n",
      "\n",
      "size(data)"
     ],
     "language": "python",
     "metadata": {},
     "outputs": [
      {
       "ename": "OctaveMagicError",
       "evalue": "Oct2Py tried to run:\n\"\"\"\n%\n% Read from the file into the array data(:,:)\n%\ndata = dlmread('hipparcos.txt');\n\nsize(data)\n\"\"\"\nOctave returned:\ndlmread: unable to open file 'hipparcos.txt'",
       "output_type": "pyerr",
       "traceback": [
        "\u001b[1;31m---------------------------------------------------------------------------\u001b[0m",
        "\u001b[1;31mOctaveMagicError\u001b[0m                          Traceback (most recent call last)",
        "\u001b[1;32m<ipython-input-2-252164f4fe84>\u001b[0m in \u001b[0;36m<module>\u001b[1;34m()\u001b[0m\n\u001b[1;32m----> 1\u001b[1;33m \u001b[0mget_ipython\u001b[0m\u001b[1;33m(\u001b[0m\u001b[1;33m)\u001b[0m\u001b[1;33m.\u001b[0m\u001b[0mrun_cell_magic\u001b[0m\u001b[1;33m(\u001b[0m\u001b[1;34mu'octave'\u001b[0m\u001b[1;33m,\u001b[0m \u001b[1;34mu''\u001b[0m\u001b[1;33m,\u001b[0m \u001b[1;34mu\"\\n%\\n% Read from the file into the array data(:,:)\\n%\\ndata = dlmread('hipparcos.txt');\\n\\nsize(data)\"\u001b[0m\u001b[1;33m)\u001b[0m\u001b[1;33m\u001b[0m\u001b[0m\n\u001b[0m",
        "\u001b[1;32m/home/sigrid/Daniel/Teaching/MATLAB-2014/ipython/IPython/core/interactiveshell.pyc\u001b[0m in \u001b[0;36mrun_cell_magic\u001b[1;34m(self, magic_name, line, cell)\u001b[0m\n\u001b[0;32m   2231\u001b[0m             \u001b[0mmagic_arg_s\u001b[0m \u001b[1;33m=\u001b[0m \u001b[0mself\u001b[0m\u001b[1;33m.\u001b[0m\u001b[0mvar_expand\u001b[0m\u001b[1;33m(\u001b[0m\u001b[0mline\u001b[0m\u001b[1;33m,\u001b[0m \u001b[0mstack_depth\u001b[0m\u001b[1;33m)\u001b[0m\u001b[1;33m\u001b[0m\u001b[0m\n\u001b[0;32m   2232\u001b[0m             \u001b[1;32mwith\u001b[0m \u001b[0mself\u001b[0m\u001b[1;33m.\u001b[0m\u001b[0mbuiltin_trap\u001b[0m\u001b[1;33m:\u001b[0m\u001b[1;33m\u001b[0m\u001b[0m\n\u001b[1;32m-> 2233\u001b[1;33m                 \u001b[0mresult\u001b[0m \u001b[1;33m=\u001b[0m \u001b[0mfn\u001b[0m\u001b[1;33m(\u001b[0m\u001b[0mmagic_arg_s\u001b[0m\u001b[1;33m,\u001b[0m \u001b[0mcell\u001b[0m\u001b[1;33m)\u001b[0m\u001b[1;33m\u001b[0m\u001b[0m\n\u001b[0m\u001b[0;32m   2234\u001b[0m             \u001b[1;32mreturn\u001b[0m \u001b[0mresult\u001b[0m\u001b[1;33m\u001b[0m\u001b[0m\n\u001b[0;32m   2235\u001b[0m \u001b[1;33m\u001b[0m\u001b[0m\n",
        "\u001b[1;32m/usr/local/lib/python2.7/dist-packages/oct2py/ipython/octavemagic.pyc\u001b[0m in \u001b[0;36moctave\u001b[1;34m(self, line, cell, local_ns)\u001b[0m\n",
        "\u001b[1;32m/home/sigrid/Daniel/Teaching/MATLAB-2014/ipython/IPython/core/magic.pyc\u001b[0m in \u001b[0;36m<lambda>\u001b[1;34m(f, *a, **k)\u001b[0m\n\u001b[0;32m    191\u001b[0m     \u001b[1;31m# but it's overkill for just that one bit of state.\u001b[0m\u001b[1;33m\u001b[0m\u001b[1;33m\u001b[0m\u001b[0m\n\u001b[0;32m    192\u001b[0m     \u001b[1;32mdef\u001b[0m \u001b[0mmagic_deco\u001b[0m\u001b[1;33m(\u001b[0m\u001b[0marg\u001b[0m\u001b[1;33m)\u001b[0m\u001b[1;33m:\u001b[0m\u001b[1;33m\u001b[0m\u001b[0m\n\u001b[1;32m--> 193\u001b[1;33m         \u001b[0mcall\u001b[0m \u001b[1;33m=\u001b[0m \u001b[1;32mlambda\u001b[0m \u001b[0mf\u001b[0m\u001b[1;33m,\u001b[0m \u001b[1;33m*\u001b[0m\u001b[0ma\u001b[0m\u001b[1;33m,\u001b[0m \u001b[1;33m**\u001b[0m\u001b[0mk\u001b[0m\u001b[1;33m:\u001b[0m \u001b[0mf\u001b[0m\u001b[1;33m(\u001b[0m\u001b[1;33m*\u001b[0m\u001b[0ma\u001b[0m\u001b[1;33m,\u001b[0m \u001b[1;33m**\u001b[0m\u001b[0mk\u001b[0m\u001b[1;33m)\u001b[0m\u001b[1;33m\u001b[0m\u001b[0m\n\u001b[0m\u001b[0;32m    194\u001b[0m \u001b[1;33m\u001b[0m\u001b[0m\n\u001b[0;32m    195\u001b[0m         \u001b[1;32mif\u001b[0m \u001b[0mcallable\u001b[0m\u001b[1;33m(\u001b[0m\u001b[0marg\u001b[0m\u001b[1;33m)\u001b[0m\u001b[1;33m:\u001b[0m\u001b[1;33m\u001b[0m\u001b[0m\n",
        "\u001b[1;32m/usr/local/lib/python2.7/dist-packages/oct2py/ipython/octavemagic.pyc\u001b[0m in \u001b[0;36moctave\u001b[1;34m(self, line, cell, local_ns)\u001b[0m\n\u001b[0;32m    312\u001b[0m             \u001b[0mmsg\u001b[0m \u001b[1;33m=\u001b[0m \u001b[0mre\u001b[0m\u001b[1;33m.\u001b[0m\u001b[0msub\u001b[0m\u001b[1;33m(\u001b[0m\u001b[1;34m'\"\"\"\\s+'\u001b[0m\u001b[1;33m,\u001b[0m \u001b[1;34m'\"\"\"\\n'\u001b[0m\u001b[1;33m,\u001b[0m \u001b[0mmsg\u001b[0m\u001b[1;33m)\u001b[0m\u001b[1;33m\u001b[0m\u001b[0m\n\u001b[0;32m    313\u001b[0m             \u001b[0mmsg\u001b[0m \u001b[1;33m=\u001b[0m \u001b[0mre\u001b[0m\u001b[1;33m.\u001b[0m\u001b[0msub\u001b[0m\u001b[1;33m(\u001b[0m\u001b[1;34m'\\s+\"\"\"'\u001b[0m\u001b[1;33m,\u001b[0m \u001b[1;34m'\\n\"\"\"'\u001b[0m\u001b[1;33m,\u001b[0m \u001b[0mmsg\u001b[0m\u001b[1;33m)\u001b[0m\u001b[1;33m\u001b[0m\u001b[0m\n\u001b[1;32m--> 314\u001b[1;33m             \u001b[1;32mraise\u001b[0m \u001b[0mOctaveMagicError\u001b[0m\u001b[1;33m(\u001b[0m\u001b[0mmsg\u001b[0m\u001b[1;33m)\u001b[0m\u001b[1;33m\u001b[0m\u001b[0m\n\u001b[0m\u001b[0;32m    315\u001b[0m \u001b[1;33m\u001b[0m\u001b[0m\n\u001b[0;32m    316\u001b[0m         \u001b[0mkey\u001b[0m \u001b[1;33m=\u001b[0m \u001b[1;34m'OctaveMagic.Octave'\u001b[0m\u001b[1;33m\u001b[0m\u001b[0m\n",
        "\u001b[1;31mOctaveMagicError\u001b[0m: Oct2Py tried to run:\n\"\"\"\n%\n% Read from the file into the array data(:,:)\n%\ndata = dlmread('hipparcos.txt');\n\nsize(data)\n\"\"\"\nOctave returned:\ndlmread: unable to open file 'hipparcos.txt'"
       ]
      }
     ],
     "prompt_number": 2
    },
    {
     "cell_type": "code",
     "collapsed": false,
     "input": [
      "%%octave\n",
      "\n",
      "%\n",
      "% Columns.\n",
      "%\n",
      "HIP  = data(:, 1);  % (---)    Hipparcos number.\n",
      "l    = data(:, 2);  % (deg)    Star longitude.\n",
      "b    = data(:, 3);  % (deg)    Star lattitude.\n",
      "p    = data(:, 4);  % (mas)    Parallax.\n",
      "ul   = data(:, 5);  % (mas/yr) Proper motion, 'l' direction.\n",
      "ub   = data(:, 6);  % (mas/yr) Proper motion, 'b' direction.\n",
      "e_p  = data(:, 7);  % (mas)    Standard Error in parallax.\n",
      "e_ul = data(:, 8);  % (mas/yr) Standard Error in 'ul'.\n",
      "e_ub = data(:, 9);  % (mas/yr) Standard Error in 'ub'.\n",
      "V    = data(:,10);  % (mag)    Visual magnitude.\n",
      "col  = data(:,11);  % (mag)    Colour index, B-V.\n",
      "mult = data(:,12);  % (---)    Stellar multiplicity.\n",
      "\n",
      "size(p)"
     ],
     "language": "python",
     "metadata": {},
     "outputs": []
    },
    {
     "cell_type": "code",
     "collapsed": false,
     "input": [
      "%%octave\n",
      "\n",
      "%\n",
      "% Use column data.\n",
      "%\n",
      "plot(l, b) % Plot stars in latitude and longitude."
     ],
     "language": "python",
     "metadata": {},
     "outputs": []
    },
    {
     "cell_type": "markdown",
     "metadata": {},
     "source": [
      "### Comparison operators ( < > <= >= ...) are all array operations"
     ]
    },
    {
     "cell_type": "code",
     "collapsed": false,
     "input": [
      "%%octave\n",
      "\n",
      "arr = [1 2 3 4 5] % Row vector.\n",
      "    \n",
      "arr < 3 % Array operation.\n",
      "    \n",
      "arr( arr < 3 ) % Subset of an array."
     ],
     "language": "python",
     "metadata": {},
     "outputs": []
    },
    {
     "cell_type": "markdown",
     "metadata": {},
     "source": [
      "The same can be done with two-dimensional data."
     ]
    },
    {
     "cell_type": "code",
     "collapsed": false,
     "input": [
      "%%octave\n",
      "\n",
      "% data == 2D array with the Hipparcos catalog.\n",
      "l = data(:, 2); % (deg) Star longitude.\n",
      "b = data(:, 3); % (deg) Star latitude.\n",
      "p = data(:, 4); % (mas) Parallax.\n",
      "    \n",
      "% Select stars with parallax greater than 20 mas\n",
      "% (i.e. stars closer than 50 pc).\n",
      "nearby = (p > 20); % Stars closer than 1000/20 = 50pc.\n",
      "    \n",
      "% Plot galactic longitude and latitude of nearby stars.\n",
      "plot( b(nearby), l(nearby), '.' )"
     ],
     "language": "python",
     "metadata": {},
     "outputs": []
    },
    {
     "cell_type": "markdown",
     "metadata": {},
     "source": [
      "Combine search criteria with array operations."
     ]
    },
    {
     "cell_type": "code",
     "collapsed": false,
     "input": [
      "%%octave\n",
      "\n",
      "arr\n",
      "    \n",
      "arr < 4\n",
      "    \n",
      "arr > 1\n",
      "    \n",
      "(arr < 4) .* (arr > 1)\n",
      "    \n",
      "(arr < 4) & (arr > 1)"
     ],
     "language": "python",
     "metadata": {},
     "outputs": []
    },
    {
     "cell_type": "markdown",
     "metadata": {},
     "source": [
      "Another example."
     ]
    },
    {
     "cell_type": "code",
     "collapsed": false,
     "input": [
      "%%octave    \n",
      "    \n",
      "l = data(:,2); % (deg) Column vector with star longitudes.\n",
      "b = data(:,3); % (deg) Column vector with star latitudes.\n",
      "\n",
      "%\n",
      "% Select stars toward the galactic centre (longitude = 0)\n",
      "%\n",
      "mask = (l < 10) | (l > 350);\n",
      "\n",
      "%\n",
      "% Select stars close to the galactic plane.\n",
      "%\n",
      "mask = abs(b) < 10;"
     ],
     "language": "python",
     "metadata": {},
     "outputs": []
    },
    {
     "cell_type": "markdown",
     "metadata": {},
     "source": [
      "## Real world example: Combining images\n",
      "\n",
      "![Moon](img/moon-01.png)       Dark side of the moon \n",
      "                           with a knife edge covering \n",
      "                           the bright side.\n",
      "\n",
      "Image credit: Henriette Schwarz, 2012 (Masters Thesis)\n"
     ]
    },
    {
     "cell_type": "markdown",
     "metadata": {},
     "source": [
      "![Moon](img/moon-02.png)\n",
      "Image credit: Henriette Schwarz, 2012 (Masters Thesis)"
     ]
    },
    {
     "cell_type": "code",
     "collapsed": false,
     "input": [
      "%%octave\n",
      "\n",
      "%\n",
      "% Images are 2D arrays\n",
      "%\n",
      "img1 % Bright side.\n",
      "img2 % Dark side.\n",
      "mask = img2 > background\n",
      "img = img2 .* mask + img1 .* (1-mask)"
     ],
     "language": "python",
     "metadata": {},
     "outputs": []
    },
    {
     "cell_type": "markdown",
     "metadata": {},
     "source": [
      "## Generating simulated data\n",
      "\n",
      "Pseudo-random number generators\n",
      "\n",
      "* rand - Uniform (pseudo-)random distribution.\n",
      "* randn - Normal (pseudo-)random distribution.\n"
     ]
    },
    {
     "cell_type": "code",
     "collapsed": false,
     "input": [
      "%%octave\n",
      "\n",
      "rand(3)\n",
      "\n",
      "rand(3,1)\n",
      "\n",
      "rand(1,3)"
     ],
     "language": "python",
     "metadata": {},
     "outputs": []
    },
    {
     "cell_type": "markdown",
     "metadata": {},
     "source": [
      "### Generate a uniform star field"
     ]
    },
    {
     "cell_type": "code",
     "collapsed": true,
     "input": [
      "%%octave\n",
      "\n",
      "% Number of stars.\n",
      "nstars = 1000\n",
      "\n",
      "% Uniform distribution.\n",
      "% X and Y position.\n",
      "\n",
      "u_x = rand(1,nstars);\n",
      "u_y = rand(1,nstars);\n",
      "\n",
      "% Plot the star field.\n",
      "plot(u_x,u_y,'b.')"
     ],
     "language": "python",
     "metadata": {},
     "outputs": []
    },
    {
     "cell_type": "markdown",
     "metadata": {},
     "source": [
      "### Generate a non-uniform star field (simulated cluster)."
     ]
    },
    {
     "cell_type": "code",
     "collapsed": true,
     "input": [
      "%%octave\n",
      "\n",
      "% Number of stars.\n",
      "nstars = 1000\n",
      "\n",
      "% Normal distribution\n",
      "% (star cluster)\n",
      "c_x = randn(1,nstars);\n",
      "c_y = randn(1,nstars);\n",
      "\n",
      "% Plot the cluster\n",
      "plot(c_x,c_y,'b.')"
     ],
     "language": "python",
     "metadata": {},
     "outputs": []
    },
    {
     "cell_type": "markdown",
     "metadata": {},
     "source": [
      "### Join together the two datasets to make a more realistic star field."
     ]
    },
    {
     "cell_type": "code",
     "collapsed": true,
     "input": [
      "%%octave\n",
      "\n",
      "a = [1 2 3];\n",
      "\n",
      "b = [4 5 6];\n",
      "\n",
      "join = [a b]\n",
      "\n",
      "comb = [a ; b]"
     ],
     "language": "python",
     "metadata": {},
     "outputs": []
    },
    {
     "cell_type": "markdown",
     "metadata": {},
     "source": [
      "## Sample application\n",
      "\n",
      "Application: Local density function of a star field.\n",
      "\n",
      "Let x and y contain the joined dataset.\n"
     ]
    },
    {
     "cell_type": "code",
     "collapsed": true,
     "input": [
      "%%octave\n",
      "\n",
      "% Consider the first star in the star field.\n",
      "x1 = x(1);\n",
      "y1 = y(1);\n",
      "\n",
      "% Distance to every other star in the field.\n",
      "r = sqrt( (x1 - x).^2 + (y1 - y).^2 );\n",
      "\n",
      "%\n",
      "% Find the number of stars \u201cnear\u201d star 1.\n",
      "%\n",
      "d = 1; % Arbitrary distance.\n",
      "\n",
      "% Number of stars within distance 'd'.\n",
      "sum(r < d)"
     ],
     "language": "python",
     "metadata": {},
     "outputs": []
    },
    {
     "cell_type": "markdown",
     "metadata": {},
     "source": [
      "Application: Local density function of a star field.\n",
      "    \n",
      "Write a function that computes the local density around a point (file: density.m)."
     ]
    },
    {
     "cell_type": "code",
     "collapsed": true,
     "input": [
      "%%octave\n",
      "\n",
      "%\n",
      "% Local density around the point (xp,yp)\n",
      "%\n",
      "function rho = density(starsx, starsy, xp, yp)\n",
      "d = 1; % Arbitrary distance threshold.\n",
      "r = sqrt((xp - starsx).^2 + (yp - starsy).^2);\n",
      "\n",
      "% Number of stars within distance 'd'.\n",
      "rho = sum( r < d );"
     ],
     "language": "python",
     "metadata": {},
     "outputs": []
    },
    {
     "cell_type": "markdown",
     "metadata": {},
     "source": [
      "Application: Local density function of a star field.\n",
      "\n",
      "Using the density function:"
     ]
    },
    {
     "cell_type": "code",
     "collapsed": true,
     "input": [
      "%%octave\n",
      "\n",
      "% Consider the first star in the star field.\n",
      "x1 = x(1);\n",
      "y1 = y(2);\n",
      "\n",
      "% Local density around (x1,y1)\n",
      "rho = density(x, y, x1, y1)"
     ],
     "language": "python",
     "metadata": {},
     "outputs": []
    }
   ],
   "metadata": {}
  }
 ]
}